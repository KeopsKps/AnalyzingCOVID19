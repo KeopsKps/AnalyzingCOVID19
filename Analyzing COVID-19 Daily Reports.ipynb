{
  "nbformat": 4,
  "nbformat_minor": 0,
  "metadata": {
    "colab": {
      "name": "Untitled4.ipynb",
      "provenance": [],
      "include_colab_link": true
    },
    "kernelspec": {
      "name": "python3",
      "display_name": "Python 3"
    }
  },
  "cells": [
    {
      "cell_type": "markdown",
      "metadata": {
        "id": "view-in-github",
        "colab_type": "text"
      },
      "source": [
        "<a href=\"https://colab.research.google.com/github/KeopsKps/AnalyzingCOVID19/blob/master/Analyzing%20COVID-19%20Daily%20Reports.ipynb\" target=\"_parent\"><img src=\"https://colab.research.google.com/assets/colab-badge.svg\" alt=\"Open In Colab\"/></a>"
      ]
    },
    {
      "cell_type": "code",
      "metadata": {
        "id": "0m9vyvuXBiBi"
      },
      "source": [
        "#importing libraries\n",
        "import tensorflow as tf\n",
        "import pandas as pd\n",
        "import requests\n",
        "from bs4 import BeautifulSoup\n",
        "from datetime import datetime, timedelta"
      ],
      "execution_count": 2,
      "outputs": []
    },
    {
      "cell_type": "code",
      "metadata": {
        "id": "sGJnOkmdiAvw"
      },
      "source": [
        "class dateformat:\n",
        "\n",
        "  def __init__(self, base_date):\n",
        "    self.base_date = base_date\n",
        "    self.day = base_date.strftime(\"%d\")\n",
        "    self.month = base_date.strftime(\"%m\")\n",
        "    self.year = base_date.strftime(\"%Y\")\n",
        "\n",
        "  def updateDate(self, new_date):\n",
        "    self.base_date = new_date\n",
        "    self.day = self.base_date.strftime(\"%d\")\n",
        "    self.month = self.base_date.strftime(\"%m\")\n",
        "    self.year = self.base_date.strftime(\"%Y\")\n",
        "\n",
        "  def returnFormatDate(self):\n",
        "    formatDate = \"{month}-{day}-{year}.csv\".format(month=self.month, day=self.day, year=self.year)\n",
        "    return formatDate"
      ],
      "execution_count": 3,
      "outputs": []
    },
    {
      "cell_type": "code",
      "metadata": {
        "id": "bGrg4pnODoU7",
        "outputId": "9a1c0e83-913d-4381-b243-57daafedfd47",
        "colab": {
          "base_uri": "https://localhost:8080/",
          "height": 134
        }
      },
      "source": [
        "#Global variables\n",
        "base_url = \"https://raw.githubusercontent.com/CSSEGISandData/COVID-19/master/csse_covid_19_data/csse_covid_19_daily_reports/\"\n",
        "date = datetime.now()\n",
        "actual_date = dateformat(date)\n",
        "\n",
        "while True:\n",
        "  formatDate = actual_date.returnFormatDate()\n",
        "  complete_url = base_url + formatDate\n",
        "  try:\n",
        "    df = pd.read_csv(complete_url)\n",
        "    break\n",
        "  except:\n",
        "    date = date - timedelta(days=1)\n",
        "    actual_date.updateDate(date)\n",
        "    continue\n",
        "\n",
        "df[df.Country_Region == 'Nicaragua']"
      ],
      "execution_count": 7,
      "outputs": [
        {
          "output_type": "execute_result",
          "data": {
            "text/html": [
              "<div>\n",
              "<style scoped>\n",
              "    .dataframe tbody tr th:only-of-type {\n",
              "        vertical-align: middle;\n",
              "    }\n",
              "\n",
              "    .dataframe tbody tr th {\n",
              "        vertical-align: top;\n",
              "    }\n",
              "\n",
              "    .dataframe thead th {\n",
              "        text-align: right;\n",
              "    }\n",
              "</style>\n",
              "<table border=\"1\" class=\"dataframe\">\n",
              "  <thead>\n",
              "    <tr style=\"text-align: right;\">\n",
              "      <th></th>\n",
              "      <th>FIPS</th>\n",
              "      <th>Admin2</th>\n",
              "      <th>Province_State</th>\n",
              "      <th>Country_Region</th>\n",
              "      <th>Last_Update</th>\n",
              "      <th>Lat</th>\n",
              "      <th>Long_</th>\n",
              "      <th>Confirmed</th>\n",
              "      <th>Deaths</th>\n",
              "      <th>Recovered</th>\n",
              "      <th>Active</th>\n",
              "      <th>Combined_Key</th>\n",
              "      <th>Incidence_Rate</th>\n",
              "      <th>Case-Fatality_Ratio</th>\n",
              "    </tr>\n",
              "  </thead>\n",
              "  <tbody>\n",
              "    <tr>\n",
              "      <th>430</th>\n",
              "      <td>NaN</td>\n",
              "      <td>NaN</td>\n",
              "      <td>NaN</td>\n",
              "      <td>Nicaragua</td>\n",
              "      <td>2020-10-08 04:23:56</td>\n",
              "      <td>12.865416</td>\n",
              "      <td>-85.207229</td>\n",
              "      <td>5264</td>\n",
              "      <td>153</td>\n",
              "      <td>4225</td>\n",
              "      <td>886.0</td>\n",
              "      <td>Nicaragua</td>\n",
              "      <td>79.461953</td>\n",
              "      <td>2.906535</td>\n",
              "    </tr>\n",
              "  </tbody>\n",
              "</table>\n",
              "</div>"
            ],
            "text/plain": [
              "     FIPS Admin2  ... Incidence_Rate Case-Fatality_Ratio\n",
              "430   NaN    NaN  ...      79.461953            2.906535\n",
              "\n",
              "[1 rows x 14 columns]"
            ]
          },
          "metadata": {
            "tags": []
          },
          "execution_count": 7
        }
      ]
    },
    {
      "cell_type": "code",
      "metadata": {
        "id": "FpMyz62DDiq9"
      },
      "source": [
        "\n"
      ],
      "execution_count": 8,
      "outputs": []
    }
  ]
}