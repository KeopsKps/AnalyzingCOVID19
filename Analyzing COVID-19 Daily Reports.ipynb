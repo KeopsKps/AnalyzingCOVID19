{
  "nbformat": 4,
  "nbformat_minor": 0,
  "metadata": {
    "colab": {
      "name": "Untitled4.ipynb",
      "provenance": [],
      "include_colab_link": true
    },
    "kernelspec": {
      "name": "python3",
      "display_name": "Python 3"
    }
  },
  "cells": [
    {
      "cell_type": "markdown",
      "metadata": {
        "id": "view-in-github",
        "colab_type": "text"
      },
      "source": [
        "<a href=\"https://colab.research.google.com/github/KeopsKps/AnalyzingCOVID19/blob/master/Analyzing%20COVID-19%20Daily%20Reports.ipynb\" target=\"_parent\"><img src=\"https://colab.research.google.com/assets/colab-badge.svg\" alt=\"Open In Colab\"/></a>"
      ]
    },
    {
      "cell_type": "markdown",
      "metadata": {
        "id": "3hvxycXZNAsB"
      },
      "source": [
        "# Time series analysis"
      ]
    },
    {
      "cell_type": "code",
      "metadata": {
        "id": "FpMyz62DDiq9",
        "outputId": "da238900-6dde-4308-cddc-c066f2ad48cd",
        "colab": {
          "base_uri": "https://localhost:8080/",
          "height": 284
        }
      },
      "source": [
        "import pandas as pd\n",
        "import matplotlib.pyplot as plt\n",
        "import numpy as np\n",
        "\n",
        "global_confirmed_url = \"https://raw.githubusercontent.com/CSSEGISandData/COVID-19/master/csse_covid_19_data/csse_covid_19_time_series/time_series_covid19_confirmed_global.csv\"\n",
        "df = pd.read_csv(global_confirmed_url)\n",
        "df = df[df[\"Country/Region\"] == 'Nicaragua']\n",
        "drop_columns = ['Province/State', 'Country/Region', 'Lat', 'Long']\n",
        "base_time_serie = df.drop(columns=drop_columns)\n",
        "base_time_serie = base_time_serie.transpose()\n",
        "base_time_serie.reset_index(level=0, inplace=True)\n",
        "base_time_serie = base_time_serie.rename(columns={'index':'date', 195:'confirmed'})\n",
        "base_time_serie['date'] = pd.to_datetime(base_time_serie['date'])\n",
        "#base_time_serie = base_time_serie[base_time_serie['confirmed'] > 0] #getting elements greater than 0\n",
        "\n",
        "grouped = base_time_serie.groupby(base_time_serie['date'].dt.strftime('%B %Y'))['confirmed'].max().sort_values()\n",
        "#type(grouped)\n",
        "#grouped.index\n",
        "#grouped['index']\n",
        "\n",
        "fig, ax = plt.subplots()  # Create a figure containing a single axes.\n",
        "ax.bar(grouped.index, grouped)  # Plot some data on the axes.\n",
        "\n",
        "#plt.plot(base_time_serie['date'], base_time_serie['confirmed'])\n"
      ],
      "execution_count": 126,
      "outputs": [
        {
          "output_type": "execute_result",
          "data": {
            "text/plain": [
              "<BarContainer object of 11 artists>"
            ]
          },
          "metadata": {
            "tags": []
          },
          "execution_count": 126
        },
        {
          "output_type": "display_data",
          "data": {
            "image/png": "[encoded data removed]",
            "text/plain": [
              "<Figure size 432x288 with 1 Axes>"
            ]
          },
          "metadata": {
            "tags": [],
            "needs_background": "light"
          }
        }
      ]
    }
  ]
}