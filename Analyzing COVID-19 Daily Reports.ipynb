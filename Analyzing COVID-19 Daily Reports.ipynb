{
  "nbformat": 4,
  "nbformat_minor": 0,
  "metadata": {
    "colab": {
      "name": "Untitled4.ipynb",
      "provenance": [],
      "authorship_tag": "ABX9TyPPqnmw3/YIv2dBesGk2c8V",
      "include_colab_link": true
    },
    "kernelspec": {
      "name": "python3",
      "display_name": "Python 3"
    }
  },
  "cells": [
    {
      "cell_type": "markdown",
      "metadata": {
        "id": "view-in-github",
        "colab_type": "text"
      },
      "source": [
        "<a href=\"https://colab.research.google.com/github/KeopsKps/AnalyzingCOVID19/blob/master/Analyzing%20COVID-19%20Daily%20Reports.ipynb\" target=\"_parent\"><img src=\"https://colab.research.google.com/assets/colab-badge.svg\" alt=\"Open In Colab\"/></a>"
      ]
    },
    {
      "cell_type": "code",
      "metadata": {
        "id": "0m9vyvuXBiBi",
        "colab_type": "code",
        "colab": {}
      },
      "source": [
        "#importing libraries\n",
        "import tensorflow as tf\n",
        "import pandas as pd\n",
        "import requests\n",
        "from bs4 import BeautifulSoup"
      ],
      "execution_count": 0,
      "outputs": []
    },
    {
      "cell_type": "code",
      "metadata": {
        "id": "bGrg4pnODoU7",
        "colab_type": "code",
        "colab": {}
      },
      "source": [
        "#Global variables\n",
        "base_url = \"https://github.com/CSSEGISandData/COVID-19/tree/master/csse_covid_19_data/csse_covid_19_daily_reports\"\n",
        "raw_base_data = \"raw.githubusercontent.com\""
      ],
      "execution_count": 0,
      "outputs": []
    },
    {
      "cell_type": "code",
      "metadata": {
        "id": "FpMyz62DDiq9",
        "colab_type": "code",
        "colab": {
          "base_uri": "https://localhost:8080/",
          "height": 1000
        },
        "outputId": "5fbbe3f7-b4c1-44a0-9522-9db2d6a51170"
      },
      "source": [
        "def ScrapeData():\n",
        "  html_doc = requests.get(base_url)\n",
        "  soup = BeautifulSoup(html_doc.text, 'html.parser')\n",
        "  td_elements = soup.find_all('a', {'class':'js-navigation-open '})\n",
        "  for elements in soup.find_all('a', {'class':'js-navigation-open '}):\n",
        "    print(elements.string)\n",
        "\n",
        "ScrapeData()\n"
      ],
      "execution_count": 33,
      "outputs": [
        {
          "output_type": "stream",
          "text": [
            ".gitignore\n",
            "01-22-2020.csv\n",
            "01-23-2020.csv\n",
            "01-24-2020.csv\n",
            "01-25-2020.csv\n",
            "01-26-2020.csv\n",
            "01-27-2020.csv\n",
            "01-28-2020.csv\n",
            "01-29-2020.csv\n",
            "01-30-2020.csv\n",
            "01-31-2020.csv\n",
            "02-01-2020.csv\n",
            "02-02-2020.csv\n",
            "02-03-2020.csv\n",
            "02-04-2020.csv\n",
            "02-05-2020.csv\n",
            "02-06-2020.csv\n",
            "02-07-2020.csv\n",
            "02-08-2020.csv\n",
            "02-09-2020.csv\n",
            "02-10-2020.csv\n",
            "02-11-2020.csv\n",
            "02-12-2020.csv\n",
            "02-13-2020.csv\n",
            "02-14-2020.csv\n",
            "02-15-2020.csv\n",
            "02-16-2020.csv\n",
            "02-17-2020.csv\n",
            "02-18-2020.csv\n",
            "02-19-2020.csv\n",
            "02-20-2020.csv\n",
            "02-21-2020.csv\n",
            "02-22-2020.csv\n",
            "02-23-2020.csv\n",
            "02-24-2020.csv\n",
            "02-25-2020.csv\n",
            "02-26-2020.csv\n",
            "02-27-2020.csv\n",
            "02-28-2020.csv\n",
            "02-29-2020.csv\n",
            "03-01-2020.csv\n",
            "03-02-2020.csv\n",
            "03-03-2020.csv\n",
            "03-04-2020.csv\n",
            "03-05-2020.csv\n",
            "03-06-2020.csv\n",
            "03-07-2020.csv\n",
            "03-08-2020.csv\n",
            "03-09-2020.csv\n",
            "03-10-2020.csv\n",
            "03-11-2020.csv\n",
            "03-12-2020.csv\n",
            "03-13-2020.csv\n",
            "03-14-2020.csv\n",
            "03-15-2020.csv\n",
            "03-16-2020.csv\n",
            "03-17-2020.csv\n",
            "03-18-2020.csv\n",
            "03-19-2020.csv\n",
            "03-20-2020.csv\n",
            "03-21-2020.csv\n",
            "03-22-2020.csv\n",
            "03-23-2020.csv\n",
            "03-24-2020.csv\n",
            "03-25-2020.csv\n",
            "03-26-2020.csv\n",
            "03-27-2020.csv\n",
            "03-28-2020.csv\n",
            "03-29-2020.csv\n",
            "03-30-2020.csv\n",
            "03-31-2020.csv\n",
            "04-01-2020.csv\n",
            "04-02-2020.csv\n",
            "04-03-2020.csv\n",
            "04-04-2020.csv\n",
            "04-05-2020.csv\n",
            "04-06-2020.csv\n",
            "04-07-2020.csv\n",
            "04-08-2020.csv\n",
            "04-09-2020.csv\n",
            "04-10-2020.csv\n",
            "04-11-2020.csv\n",
            "04-12-2020.csv\n",
            "04-13-2020.csv\n",
            "04-14-2020.csv\n",
            "04-15-2020.csv\n",
            "04-16-2020.csv\n",
            "04-17-2020.csv\n",
            "04-18-2020.csv\n",
            "04-19-2020.csv\n",
            "04-20-2020.csv\n",
            "04-21-2020.csv\n",
            "04-22-2020.csv\n",
            "04-23-2020.csv\n",
            "04-24-2020.csv\n",
            "04-25-2020.csv\n",
            "README.md\n"
          ],
          "name": "stdout"
        }
      ]
    }
  ]
}